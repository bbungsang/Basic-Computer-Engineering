{
 "cells": [
  {
   "cell_type": "code",
   "execution_count": 1,
   "metadata": {},
   "outputs": [],
   "source": [
    "# 상속 = 자식 클래스가 부모 클래스의 모든 멤버와 메소드를 이어받는다.\n",
    "class Base:\n",
    "    def __init__(self, a, b):\n",
    "        self.a = a\n",
    "        self.b = b\n",
    "        \n",
    "    def func1(self):\n",
    "        print(\"func1 called\")\n",
    "        \n",
    "        \n",
    "class Derived(Base): # \"(부모 클래스)\": Base 라는 부모 클래스를 상속받는 것을 뜻한다.\n",
    "    pass"
   ]
  },
  {
   "cell_type": "code",
   "execution_count": 2,
   "metadata": {},
   "outputs": [
    {
     "name": "stdout",
     "output_type": "stream",
     "text": [
      "5 3\n",
      "func1 called\n"
     ]
    }
   ],
   "source": [
    "# 자식(파생) 클래스가 부모(기본) 클래스의 모든 멤버와 메소드를 이어받는 것을 확인할 수 있다.\n",
    "d = Derived(5, 3) \n",
    "print(d.a, d.b)\n",
    "d.func1()"
   ]
  },
  {
   "cell_type": "code",
   "execution_count": 3,
   "metadata": {},
   "outputs": [],
   "source": [
    "# 부모 : 자식이 모두 가지고 있는 공통된 속성(attribute)를 모두 여기에서 정의\n",
    "class Computer:\n",
    "    def __init__(self, cpu, ram, hard_disk):\n",
    "        self.cpu = cpu\n",
    "        self.ram = ram\n",
    "        self.hard_disk = hard_disk\n",
    "        \n",
    "    # 같은 공간 안에 같은 이름의 함수를 정의하는 것 \n",
    "    # 하지만 파이썬에서는 절대 오버로딩을 인정하지 않는다.\n",
    "    def calculate(self, a, b):\n",
    "        print(\"overloading test\", a+b)\n",
    "        \n",
    "    def calculate(self, ):\n",
    "        print(\"computer calculating\")\n",
    "        \n",
    "    def __str__(self):\n",
    "        return \"I am a computer.\"\n",
    "        \n",
    "        \n",
    "class Laptop(Computer):\n",
    "    def __init__(self, cpu, ram, hard_disk, touch_pad=\"normal\"):\n",
    "        # 1. 일일이 선언\n",
    "        # self.cpu = cpu\n",
    "        # self.ram = ram\n",
    "        # self.hard_disk = hard_disk\n",
    "        # self.touch_pad = touch_pad\n",
    "        \n",
    "        # 2. 클래스 이름으로 접근\n",
    "        Computer.__init__(self, cpu, ram, hard_disk) # self : 부모 속성을 지금 만들고 있는 객체에 적용하겠다.\n",
    "        self.touch_pad = touch_pad\n",
    "        \n",
    "    # 정의되어 있지 않아도 상속받았기 때문에 calculator()가 존재\n",
    "    # 노트북이므로 조금 느린 연산을 한다는 것을 표현하고자 함\n",
    "    # 같은 이름의 함수가 존재한다면 상속받는 함수보다는 현재 객체에서 정의하고 있는 함수의 우선 순위가 더 높다 = \"오버라이드\"\n",
    "    def calculate(self):\n",
    "        print(\"laptop calculating, a little bit slow\")\n",
    "        \n",
    "    def __str__(self):\n",
    "        return \"I am a computer. but i have mobility.\""
   ]
  },
  {
   "cell_type": "code",
   "execution_count": 4,
   "metadata": {
    "scrolled": true
   },
   "outputs": [
    {
     "name": "stdout",
     "output_type": "stream",
     "text": [
      "laptop calculating, a little bit slow\n"
     ]
    }
   ],
   "source": [
    "l1 = Laptop(\"i7\", \"12GB\", \"1TB\")\n",
    "l1.calculate()"
   ]
  },
  {
   "cell_type": "code",
   "execution_count": 5,
   "metadata": {
    "scrolled": true
   },
   "outputs": [
    {
     "name": "stdout",
     "output_type": "stream",
     "text": [
      "computer calculating\n"
     ]
    },
    {
     "ename": "TypeError",
     "evalue": "calculate() takes 1 positional argument but 3 were given",
     "output_type": "error",
     "traceback": [
      "\u001b[0;31m---------------------------------------------------------------------------\u001b[0m",
      "\u001b[0;31mTypeError\u001b[0m                                 Traceback (most recent call last)",
      "\u001b[0;32m<ipython-input-5-71411383f0c7>\u001b[0m in \u001b[0;36m<module>\u001b[0;34m()\u001b[0m\n\u001b[1;32m      2\u001b[0m \u001b[0mcom\u001b[0m \u001b[0;34m=\u001b[0m \u001b[0mComputer\u001b[0m\u001b[0;34m(\u001b[0m\u001b[0;34m\"i7\"\u001b[0m\u001b[0;34m,\u001b[0m \u001b[0;34m\"12GB\"\u001b[0m\u001b[0;34m,\u001b[0m \u001b[0;34m\"1TB\"\u001b[0m\u001b[0;34m)\u001b[0m\u001b[0;34m\u001b[0m\u001b[0m\n\u001b[1;32m      3\u001b[0m \u001b[0mcom\u001b[0m\u001b[0;34m.\u001b[0m\u001b[0mcalculate\u001b[0m\u001b[0;34m(\u001b[0m\u001b[0;34m)\u001b[0m\u001b[0;34m\u001b[0m\u001b[0m\n\u001b[0;32m----> 4\u001b[0;31m \u001b[0mcom\u001b[0m\u001b[0;34m.\u001b[0m\u001b[0mcalculate\u001b[0m\u001b[0;34m(\u001b[0m\u001b[0;36m2\u001b[0m\u001b[0;34m,\u001b[0m \u001b[0;36m3\u001b[0m\u001b[0;34m)\u001b[0m\u001b[0;34m\u001b[0m\u001b[0m\n\u001b[0m",
      "\u001b[0;31mTypeError\u001b[0m: calculate() takes 1 positional argument but 3 were given"
     ]
    }
   ],
   "source": [
    "# 오버 로딩 테스트\n",
    "com = Computer(\"i7\", \"12GB\", \"1TB\")\n",
    "com.calculate()\n",
    "com.calculate(2, 3)"
   ]
  },
  {
   "cell_type": "code",
   "execution_count": 6,
   "metadata": {},
   "outputs": [],
   "source": [
    "class Desktop(Computer):\n",
    "    def __init__(self, cpu, ram, hard_disk, external_graphic=\"Geforce\"):\n",
    "        # 3. super(type, obj)로 접근 (=super())\n",
    "        # class: 우리가 사용할 우리만의 특별한 자료형을 만들었다는 의미, 하나의 type\n",
    "        super(Desktop, self).__init__(cpu, ram, hard_disk)\n",
    "        \n",
    "    def calculate(self):\n",
    "        print(\"desktop calculation, a little bit fast\")\n",
    "        \n",
    "    def __str__(self):\n",
    "        return super(Desktop, self).__str__() + \\\n",
    "        \"but i don't have mobility.\""
   ]
  },
  {
   "cell_type": "code",
   "execution_count": 7,
   "metadata": {},
   "outputs": [
    {
     "name": "stdout",
     "output_type": "stream",
     "text": [
      "desktop calculation, a little bit fast\n"
     ]
    },
    {
     "data": {
      "text/plain": [
       "\"I am a computer.but i don't have mobility.\""
      ]
     },
     "execution_count": 7,
     "metadata": {},
     "output_type": "execute_result"
    }
   ],
   "source": [
    "d1 = Desktop(\"i7\", \"12GB\", \"1TB\")\n",
    "d1.calculate()\n",
    "d1.__str__()"
   ]
  }
 ],
 "metadata": {
  "kernelspec": {
   "display_name": "Python 3",
   "language": "python",
   "name": "python3"
  },
  "language_info": {
   "codemirror_mode": {
    "name": "ipython",
    "version": 3
   },
   "file_extension": ".py",
   "mimetype": "text/x-python",
   "name": "python",
   "nbconvert_exporter": "python",
   "pygments_lexer": "ipython3",
   "version": "3.6.1"
  }
 },
 "nbformat": 4,
 "nbformat_minor": 2
}
