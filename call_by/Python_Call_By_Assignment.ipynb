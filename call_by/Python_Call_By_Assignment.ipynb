{
 "cells": [
  {
   "cell_type": "code",
   "execution_count": 1,
   "metadata": {},
   "outputs": [],
   "source": [
    "def val(a):\n",
    "    a = 'new value'\n",
    "    print(\"메서드 내 a의 id\", id(a))"
   ]
  },
  {
   "cell_type": "code",
   "execution_count": 2,
   "metadata": {},
   "outputs": [
    {
     "name": "stdout",
     "output_type": "stream",
     "text": [
      "메서드 내 a의 id 4414425136\n",
      "메서드 실행 전 a의 id 4386236016\n"
     ]
    },
    {
     "data": {
      "text/plain": [
       "('메서드 실행 후', 'old_value')"
      ]
     },
     "execution_count": 2,
     "metadata": {},
     "output_type": "execute_result"
    }
   ],
   "source": [
    "a = 'old_value'\n",
    "val(a)\n",
    "print(\"메서드 실행 전 a의 id\", id(a))\n",
    "\"메서드 실행 후\", a"
   ]
  },
  {
   "cell_type": "code",
   "execution_count": 3,
   "metadata": {},
   "outputs": [],
   "source": [
    "def ref(b):\n",
    "    b[0] = 'new value1' # 변경\n",
    "    print(\"메서드 내 변경된 b의 id\", id(b))\n",
    "    b = ['new value2'] # 새로 할당\n",
    "    print(\"메서드 내 새로 할당한 b의 id\", id(b))"
   ]
  },
  {
   "cell_type": "code",
   "execution_count": 4,
   "metadata": {},
   "outputs": [
    {
     "name": "stdout",
     "output_type": "stream",
     "text": [
      "메서드 내 a의 id 4414425136\n",
      "메서드 실행 전 b의 id 4414426312\n"
     ]
    },
    {
     "data": {
      "text/plain": [
       "('메서드 실행 후', ['old value'])"
      ]
     },
     "execution_count": 4,
     "metadata": {},
     "output_type": "execute_result"
    }
   ],
   "source": [
    "b = ['old value']\n",
    "val(b)\n",
    "print(\"메서드 실행 전 b의 id\", id(b))\n",
    "\"메서드 실행 후\", b"
   ]
  }
 ],
 "metadata": {
  "kernelspec": {
   "display_name": "Python 3",
   "language": "python",
   "name": "python3"
  },
  "language_info": {
   "codemirror_mode": {
    "name": "ipython",
    "version": 3
   },
   "file_extension": ".py",
   "mimetype": "text/x-python",
   "name": "python",
   "nbconvert_exporter": "python",
   "pygments_lexer": "ipython3",
   "version": "3.6.1"
  }
 },
 "nbformat": 4,
 "nbformat_minor": 2
}
