{
 "cells": [
  {
   "cell_type": "code",
   "execution_count": 1,
   "metadata": {},
   "outputs": [],
   "source": [
    "class Gun:\n",
    "    def __init__(self, kind):\n",
    "        self.kind = kind\n",
    "        \n",
    "    # 총알이 나가는 것\n",
    "    def bbangya(self):\n",
    "        print(\"빵야~ 빵야~\")\n",
    "        \n",
    "# 객체 합성(객체 속의 객체) != 상속\n",
    "class Police:\n",
    "    def __init__(self, gun_kind=''):\n",
    "        if gun_kind:\n",
    "            # 총(의 종류)을 가지고 있다면, 총 객체를 만들어서 인스턴스 멤버로 가짐.\n",
    "            self.gun = Gun(gun_kind) \n",
    "        else:\n",
    "            # 총이라는 멤버 이름은 존재하지만 'None'으로 빈 값을 세팅, 나중에 총을 가질 여지가 있음.\n",
    "            self.gun = None\n",
    "    \n",
    "    def get_gun(self, gun_kind):\n",
    "        # 총이 없는 경찰에게 총을 얻도록,\n",
    "        # 총을 가진 경찰에게 다른 종류의 총을 얻도록.\n",
    "        self.gun = Gun(gun_kind)\n",
    "    \n",
    "    # 경찰관이 총을 겨누는 것\n",
    "    def shoot(self):\n",
    "        if self.gun: # 인스턴스 멤버로 해당 객체(Gun)를 가지고 있다면,\n",
    "            self.gun.bbangya()\n",
    "        else:\n",
    "            print(\"총을 소지하고 있지 않습니다.\")"
   ]
  },
  {
   "cell_type": "code",
   "execution_count": 2,
   "metadata": {},
   "outputs": [],
   "source": [
    "p1 = Police(\"리볼버\")"
   ]
  },
  {
   "cell_type": "code",
   "execution_count": 3,
   "metadata": {},
   "outputs": [
    {
     "name": "stdout",
     "output_type": "stream",
     "text": [
      "빵야~ 빵야~\n"
     ]
    }
   ],
   "source": [
    "p1.shoot()"
   ]
  },
  {
   "cell_type": "code",
   "execution_count": 4,
   "metadata": {},
   "outputs": [
    {
     "name": "stdout",
     "output_type": "stream",
     "text": [
      "총을 소지하고 있지 않습니다.\n"
     ]
    }
   ],
   "source": [
    "# 총이 없는 교통 경찰\n",
    "p2 = Police()\n",
    "p2.shoot()"
   ]
  },
  {
   "cell_type": "code",
   "execution_count": 5,
   "metadata": {},
   "outputs": [
    {
     "name": "stdout",
     "output_type": "stream",
     "text": [
      "빵야~ 빵야~\n"
     ]
    }
   ],
   "source": [
    "# 이런 식으로 객체를 핸들링하는 것을 '객체 합성'이라고 하며 이럴 경우(has a) 상속은 부적절하다.\n",
    "p2.get_gun(\"기관총\")\n",
    "p2.shoot()"
   ]
  }
 ],
 "metadata": {
  "kernelspec": {
   "display_name": "Python 3",
   "language": "python",
   "name": "python3"
  },
  "language_info": {
   "codemirror_mode": {
    "name": "ipython",
    "version": 3
   },
   "file_extension": ".py",
   "mimetype": "text/x-python",
   "name": "python",
   "nbconvert_exporter": "python",
   "pygments_lexer": "ipython3",
   "version": "3.6.1"
  }
 },
 "nbformat": 4,
 "nbformat_minor": 2
}
