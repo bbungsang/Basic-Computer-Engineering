{
 "cells": [
  {
   "cell_type": "code",
   "execution_count": 1,
   "metadata": {},
   "outputs": [],
   "source": [
    "# 공통 속성을 추출하여 부모 클래스로 사용\n",
    "class Person:\n",
    "    def __init__(self, name, age, money):\n",
    "        self.name = name\n",
    "        self.age = age\n",
    "        self.money = money\n",
    "        \n",
    "    def give_other_money(self, other, how_much):\n",
    "        self.money -= how_much\n",
    "        other.money += how_much\n",
    "        \n",
    "    def __str__(self):\n",
    "        return '''\n",
    "        My name is {}.\n",
    "        I am {} years old.\n",
    "        I have {} won.'''.format(\n",
    "            self.name,\n",
    "            self.age,\n",
    "            self.money,\n",
    "        )"
   ]
  },
  {
   "cell_type": "code",
   "execution_count": 2,
   "metadata": {},
   "outputs": [
    {
     "name": "stdout",
     "output_type": "stream",
     "text": [
      "\n",
      "        My name is bbungsang.\n",
      "        I am 18 years old.\n",
      "        I have 5000 won.\n",
      "\n",
      "        My name is bazzi.\n",
      "        I am 22 years old.\n",
      "        I have 1000 won.\n"
     ]
    }
   ],
   "source": [
    "p1 = Person(\"bbungsang\", 18, 5000)\n",
    "p2 = Person(\"bazzi\", 22, 1000)\n",
    "print(p1)\n",
    "print(p2)"
   ]
  },
  {
   "cell_type": "code",
   "execution_count": 3,
   "metadata": {},
   "outputs": [
    {
     "name": "stdout",
     "output_type": "stream",
     "text": [
      "\n",
      "        My name is bbungsang.\n",
      "        I am 18 years old.\n",
      "        I have 4000 won.\n",
      "\n",
      "        My name is bazzi.\n",
      "        I am 22 years old.\n",
      "        I have 2000 won.\n"
     ]
    }
   ],
   "source": [
    "p1.give_other_money(p2, 1000)\n",
    "print(p1)\n",
    "print(p2)"
   ]
  },
  {
   "cell_type": "code",
   "execution_count": null,
   "metadata": {},
   "outputs": [],
   "source": []
  }
 ],
 "metadata": {
  "kernelspec": {
   "display_name": "Python 3",
   "language": "python",
   "name": "python3"
  },
  "language_info": {
   "codemirror_mode": {
    "name": "ipython",
    "version": 3
   },
   "file_extension": ".py",
   "mimetype": "text/x-python",
   "name": "python",
   "nbconvert_exporter": "python",
   "pygments_lexer": "ipython3",
   "version": "3.6.1"
  }
 },
 "nbformat": 4,
 "nbformat_minor": 2
}
